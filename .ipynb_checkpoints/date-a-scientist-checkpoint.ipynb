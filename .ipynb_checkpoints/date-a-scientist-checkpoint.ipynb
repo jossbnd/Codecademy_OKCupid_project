{
 "cells": [
  {
   "cell_type": "markdown",
   "metadata": {},
   "source": [
    "# OK Cupid Date-a-Scientist project\n",
    "\n",
    "***\n",
    "\n",
    "This project is in the scope of my training at Codecademy.\n",
    "\n",
    "This is about analyzing a dataset of OKCupid user profiles to practice formulating questions and implementing machine learning techniques to answer those questions.\n",
    "\n",
    "Data sources:\n",
    "profiles.csv was provided by Codecademy.com.\n",
    "\n",
    "\n",
    "## Project Goals\n",
    "\n",
    "***\n",
    "\n",
    "As it could have its importance to propose the best match for a user, we are going to focus on astrological signs. \n",
    "\n",
    "Many users doesn't precise their sign.\n",
    "\n",
    "It could be interesting for OKCupid to know whether or not we can predict the sign for a user that did not give the information to help him to find his/her soulmate.\n",
    "\n",
    "\n",
    "## 1. Explore and clean the data\n",
    "\n",
    "***"
   ]
  },
  {
   "cell_type": "code",
   "execution_count": 1,
   "metadata": {},
   "outputs": [
    {
     "data": {
      "text/html": [
       "<div>\n",
       "<style scoped>\n",
       "    .dataframe tbody tr th:only-of-type {\n",
       "        vertical-align: middle;\n",
       "    }\n",
       "\n",
       "    .dataframe tbody tr th {\n",
       "        vertical-align: top;\n",
       "    }\n",
       "\n",
       "    .dataframe thead th {\n",
       "        text-align: right;\n",
       "    }\n",
       "</style>\n",
       "<table border=\"1\" class=\"dataframe\">\n",
       "  <thead>\n",
       "    <tr style=\"text-align: right;\">\n",
       "      <th></th>\n",
       "      <th>age</th>\n",
       "      <th>body_type</th>\n",
       "      <th>diet</th>\n",
       "      <th>drinks</th>\n",
       "      <th>drugs</th>\n",
       "      <th>education</th>\n",
       "      <th>essay0</th>\n",
       "      <th>essay1</th>\n",
       "      <th>essay2</th>\n",
       "      <th>essay3</th>\n",
       "      <th>essay4</th>\n",
       "      <th>essay5</th>\n",
       "      <th>essay6</th>\n",
       "      <th>essay7</th>\n",
       "      <th>essay8</th>\n",
       "      <th>essay9</th>\n",
       "      <th>ethnicity</th>\n",
       "      <th>height</th>\n",
       "      <th>income</th>\n",
       "      <th>job</th>\n",
       "      <th>last_online</th>\n",
       "      <th>location</th>\n",
       "      <th>offspring</th>\n",
       "      <th>orientation</th>\n",
       "      <th>pets</th>\n",
       "      <th>religion</th>\n",
       "      <th>sex</th>\n",
       "      <th>sign</th>\n",
       "      <th>smokes</th>\n",
       "      <th>speaks</th>\n",
       "      <th>status</th>\n",
       "    </tr>\n",
       "  </thead>\n",
       "  <tbody>\n",
       "    <tr>\n",
       "      <th>0</th>\n",
       "      <td>22</td>\n",
       "      <td>a little extra</td>\n",
       "      <td>strictly anything</td>\n",
       "      <td>socially</td>\n",
       "      <td>never</td>\n",
       "      <td>working on college/university</td>\n",
       "      <td>about me:&lt;br /&gt;\\n&lt;br /&gt;\\ni would love to think...</td>\n",
       "      <td>currently working as an international agent fo...</td>\n",
       "      <td>making people laugh.&lt;br /&gt;\\nranting about a go...</td>\n",
       "      <td>the way i look. i am a six foot half asian, ha...</td>\n",
       "      <td>books:&lt;br /&gt;\\nabsurdistan, the republic, of mi...</td>\n",
       "      <td>food.&lt;br /&gt;\\nwater.&lt;br /&gt;\\ncell phone.&lt;br /&gt;\\n...</td>\n",
       "      <td>duality and humorous things</td>\n",
       "      <td>trying to find someone to hang out with. i am ...</td>\n",
       "      <td>i am new to california and looking for someone...</td>\n",
       "      <td>you want to be swept off your feet!&lt;br /&gt;\\nyou...</td>\n",
       "      <td>asian, white</td>\n",
       "      <td>75.0</td>\n",
       "      <td>-1</td>\n",
       "      <td>transportation</td>\n",
       "      <td>2012-06-28-20-30</td>\n",
       "      <td>south san francisco, california</td>\n",
       "      <td>doesn&amp;rsquo;t have kids, but might want them</td>\n",
       "      <td>straight</td>\n",
       "      <td>likes dogs and likes cats</td>\n",
       "      <td>agnosticism and very serious about it</td>\n",
       "      <td>m</td>\n",
       "      <td>gemini</td>\n",
       "      <td>sometimes</td>\n",
       "      <td>english</td>\n",
       "      <td>single</td>\n",
       "    </tr>\n",
       "    <tr>\n",
       "      <th>1</th>\n",
       "      <td>35</td>\n",
       "      <td>average</td>\n",
       "      <td>mostly other</td>\n",
       "      <td>often</td>\n",
       "      <td>sometimes</td>\n",
       "      <td>working on space camp</td>\n",
       "      <td>i am a chef: this is what that means.&lt;br /&gt;\\n1...</td>\n",
       "      <td>dedicating everyday to being an unbelievable b...</td>\n",
       "      <td>being silly. having ridiculous amonts of fun w...</td>\n",
       "      <td>NaN</td>\n",
       "      <td>i am die hard christopher moore fan. i don't r...</td>\n",
       "      <td>delicious porkness in all of its glories.&lt;br /...</td>\n",
       "      <td>NaN</td>\n",
       "      <td>NaN</td>\n",
       "      <td>i am very open and will share just about anyth...</td>\n",
       "      <td>NaN</td>\n",
       "      <td>white</td>\n",
       "      <td>70.0</td>\n",
       "      <td>80000</td>\n",
       "      <td>hospitality / travel</td>\n",
       "      <td>2012-06-29-21-41</td>\n",
       "      <td>oakland, california</td>\n",
       "      <td>doesn&amp;rsquo;t have kids, but might want them</td>\n",
       "      <td>straight</td>\n",
       "      <td>likes dogs and likes cats</td>\n",
       "      <td>agnosticism but not too serious about it</td>\n",
       "      <td>m</td>\n",
       "      <td>cancer</td>\n",
       "      <td>no</td>\n",
       "      <td>english (fluently), spanish (poorly), french (...</td>\n",
       "      <td>single</td>\n",
       "    </tr>\n",
       "    <tr>\n",
       "      <th>2</th>\n",
       "      <td>38</td>\n",
       "      <td>thin</td>\n",
       "      <td>anything</td>\n",
       "      <td>socially</td>\n",
       "      <td>NaN</td>\n",
       "      <td>graduated from masters program</td>\n",
       "      <td>i'm not ashamed of much, but writing public te...</td>\n",
       "      <td>i make nerdy software for musicians, artists, ...</td>\n",
       "      <td>improvising in different contexts. alternating...</td>\n",
       "      <td>my large jaw and large glasses are the physica...</td>\n",
       "      <td>okay this is where the cultural matrix gets so...</td>\n",
       "      <td>movement&lt;br /&gt;\\nconversation&lt;br /&gt;\\ncreation&lt;b...</td>\n",
       "      <td>NaN</td>\n",
       "      <td>viewing. listening. dancing. talking. drinking...</td>\n",
       "      <td>when i was five years old, i was known as \"the...</td>\n",
       "      <td>you are bright, open, intense, silly, ironic, ...</td>\n",
       "      <td>NaN</td>\n",
       "      <td>68.0</td>\n",
       "      <td>-1</td>\n",
       "      <td>NaN</td>\n",
       "      <td>2012-06-27-09-10</td>\n",
       "      <td>san francisco, california</td>\n",
       "      <td>NaN</td>\n",
       "      <td>straight</td>\n",
       "      <td>has cats</td>\n",
       "      <td>NaN</td>\n",
       "      <td>m</td>\n",
       "      <td>pisces but it doesn&amp;rsquo;t matter</td>\n",
       "      <td>no</td>\n",
       "      <td>english, french, c++</td>\n",
       "      <td>available</td>\n",
       "    </tr>\n",
       "    <tr>\n",
       "      <th>3</th>\n",
       "      <td>23</td>\n",
       "      <td>thin</td>\n",
       "      <td>vegetarian</td>\n",
       "      <td>socially</td>\n",
       "      <td>NaN</td>\n",
       "      <td>working on college/university</td>\n",
       "      <td>i work in a library and go to school. . .</td>\n",
       "      <td>reading things written by old dead people</td>\n",
       "      <td>playing synthesizers and organizing books acco...</td>\n",
       "      <td>socially awkward but i do my best</td>\n",
       "      <td>bataille, celine, beckett. . .&lt;br /&gt;\\nlynch, j...</td>\n",
       "      <td>NaN</td>\n",
       "      <td>cats and german philosophy</td>\n",
       "      <td>NaN</td>\n",
       "      <td>NaN</td>\n",
       "      <td>you feel so inclined.</td>\n",
       "      <td>white</td>\n",
       "      <td>71.0</td>\n",
       "      <td>20000</td>\n",
       "      <td>student</td>\n",
       "      <td>2012-06-28-14-22</td>\n",
       "      <td>berkeley, california</td>\n",
       "      <td>doesn&amp;rsquo;t want kids</td>\n",
       "      <td>straight</td>\n",
       "      <td>likes cats</td>\n",
       "      <td>NaN</td>\n",
       "      <td>m</td>\n",
       "      <td>pisces</td>\n",
       "      <td>no</td>\n",
       "      <td>english, german (poorly)</td>\n",
       "      <td>single</td>\n",
       "    </tr>\n",
       "    <tr>\n",
       "      <th>4</th>\n",
       "      <td>29</td>\n",
       "      <td>athletic</td>\n",
       "      <td>NaN</td>\n",
       "      <td>socially</td>\n",
       "      <td>never</td>\n",
       "      <td>graduated from college/university</td>\n",
       "      <td>hey how's it going? currently vague on the pro...</td>\n",
       "      <td>work work work work + play</td>\n",
       "      <td>creating imagery to look at:&lt;br /&gt;\\nhttp://bag...</td>\n",
       "      <td>i smile a lot and my inquisitive nature</td>\n",
       "      <td>music: bands, rappers, musicians&lt;br /&gt;\\nat the...</td>\n",
       "      <td>NaN</td>\n",
       "      <td>NaN</td>\n",
       "      <td>NaN</td>\n",
       "      <td>NaN</td>\n",
       "      <td>NaN</td>\n",
       "      <td>asian, black, other</td>\n",
       "      <td>66.0</td>\n",
       "      <td>-1</td>\n",
       "      <td>artistic / musical / writer</td>\n",
       "      <td>2012-06-27-21-26</td>\n",
       "      <td>san francisco, california</td>\n",
       "      <td>NaN</td>\n",
       "      <td>straight</td>\n",
       "      <td>likes dogs and likes cats</td>\n",
       "      <td>NaN</td>\n",
       "      <td>m</td>\n",
       "      <td>aquarius</td>\n",
       "      <td>no</td>\n",
       "      <td>english</td>\n",
       "      <td>single</td>\n",
       "    </tr>\n",
       "  </tbody>\n",
       "</table>\n",
       "</div>"
      ],
      "text/plain": [
       "   age       body_type               diet    drinks      drugs                          education                                             essay0                                             essay1                                             essay2                                             essay3                                             essay4                                             essay5                       essay6                                             essay7  \\\n",
       "0   22  a little extra  strictly anything  socially      never      working on college/university  about me:<br />\\n<br />\\ni would love to think...  currently working as an international agent fo...  making people laugh.<br />\\nranting about a go...  the way i look. i am a six foot half asian, ha...  books:<br />\\nabsurdistan, the republic, of mi...  food.<br />\\nwater.<br />\\ncell phone.<br />\\n...  duality and humorous things  trying to find someone to hang out with. i am ...   \n",
       "1   35         average       mostly other     often  sometimes              working on space camp  i am a chef: this is what that means.<br />\\n1...  dedicating everyday to being an unbelievable b...  being silly. having ridiculous amonts of fun w...                                                NaN  i am die hard christopher moore fan. i don't r...  delicious porkness in all of its glories.<br /...                          NaN                                                NaN   \n",
       "2   38            thin           anything  socially        NaN     graduated from masters program  i'm not ashamed of much, but writing public te...  i make nerdy software for musicians, artists, ...  improvising in different contexts. alternating...  my large jaw and large glasses are the physica...  okay this is where the cultural matrix gets so...  movement<br />\\nconversation<br />\\ncreation<b...                          NaN  viewing. listening. dancing. talking. drinking...   \n",
       "3   23            thin         vegetarian  socially        NaN      working on college/university          i work in a library and go to school. . .          reading things written by old dead people  playing synthesizers and organizing books acco...                  socially awkward but i do my best  bataille, celine, beckett. . .<br />\\nlynch, j...                                                NaN   cats and german philosophy                                                NaN   \n",
       "4   29        athletic                NaN  socially      never  graduated from college/university  hey how's it going? currently vague on the pro...                         work work work work + play  creating imagery to look at:<br />\\nhttp://bag...            i smile a lot and my inquisitive nature  music: bands, rappers, musicians<br />\\nat the...                                                NaN                          NaN                                                NaN   \n",
       "\n",
       "                                              essay8                                             essay9            ethnicity  height  income                          job       last_online                         location                                     offspring orientation                       pets                                  religion sex                                sign     smokes                                             speaks     status  \n",
       "0  i am new to california and looking for someone...  you want to be swept off your feet!<br />\\nyou...         asian, white    75.0      -1               transportation  2012-06-28-20-30  south san francisco, california  doesn&rsquo;t have kids, but might want them    straight  likes dogs and likes cats     agnosticism and very serious about it   m                              gemini  sometimes                                            english     single  \n",
       "1  i am very open and will share just about anyth...                                                NaN                white    70.0   80000         hospitality / travel  2012-06-29-21-41              oakland, california  doesn&rsquo;t have kids, but might want them    straight  likes dogs and likes cats  agnosticism but not too serious about it   m                              cancer         no  english (fluently), spanish (poorly), french (...     single  \n",
       "2  when i was five years old, i was known as \"the...  you are bright, open, intense, silly, ironic, ...                  NaN    68.0      -1                          NaN  2012-06-27-09-10        san francisco, california                                           NaN    straight                   has cats                                       NaN   m  pisces but it doesn&rsquo;t matter         no                               english, french, c++  available  \n",
       "3                                                NaN                              you feel so inclined.                white    71.0   20000                      student  2012-06-28-14-22             berkeley, california                       doesn&rsquo;t want kids    straight                 likes cats                                       NaN   m                              pisces         no                           english, german (poorly)     single  \n",
       "4                                                NaN                                                NaN  asian, black, other    66.0      -1  artistic / musical / writer  2012-06-27-21-26        san francisco, california                                           NaN    straight  likes dogs and likes cats                                       NaN   m                            aquarius         no                                            english     single  "
      ]
     },
     "metadata": {},
     "output_type": "display_data"
    },
    {
     "name": "stdout",
     "output_type": "stream",
     "text": [
      "<class 'pandas.core.frame.DataFrame'>\n",
      "RangeIndex: 59946 entries, 0 to 59945\n",
      "Data columns (total 31 columns):\n",
      " #   Column       Non-Null Count  Dtype  \n",
      "---  ------       --------------  -----  \n",
      " 0   age          59946 non-null  int64  \n",
      " 1   body_type    54650 non-null  object \n",
      " 2   diet         35551 non-null  object \n",
      " 3   drinks       56961 non-null  object \n",
      " 4   drugs        45866 non-null  object \n",
      " 5   education    53318 non-null  object \n",
      " 6   essay0       54458 non-null  object \n",
      " 7   essay1       52374 non-null  object \n",
      " 8   essay2       50308 non-null  object \n",
      " 9   essay3       48470 non-null  object \n",
      " 10  essay4       49409 non-null  object \n",
      " 11  essay5       49096 non-null  object \n",
      " 12  essay6       46175 non-null  object \n",
      " 13  essay7       47495 non-null  object \n",
      " 14  essay8       40721 non-null  object \n",
      " 15  essay9       47343 non-null  object \n",
      " 16  ethnicity    54266 non-null  object \n",
      " 17  height       59943 non-null  float64\n",
      " 18  income       59946 non-null  int64  \n",
      " 19  job          51748 non-null  object \n",
      " 20  last_online  59946 non-null  object \n",
      " 21  location     59946 non-null  object \n",
      " 22  offspring    24385 non-null  object \n",
      " 23  orientation  59946 non-null  object \n",
      " 24  pets         40025 non-null  object \n",
      " 25  religion     39720 non-null  object \n",
      " 26  sex          59946 non-null  object \n",
      " 27  sign         48890 non-null  object \n",
      " 28  smokes       54434 non-null  object \n",
      " 29  speaks       59896 non-null  object \n",
      " 30  status       59946 non-null  object \n",
      "dtypes: float64(1), int64(2), object(28)\n",
      "memory usage: 14.2+ MB\n",
      "None\n"
     ]
    }
   ],
   "source": [
    "# import needed libraries to explore data\n",
    "import pandas as pd\n",
    "from IPython.display import display\n",
    "\n",
    "# for a better display of dataframe in Jupyter Notebook\n",
    "pd.set_option('display.max_columns', 500)\n",
    "pd.set_option('display.width', 500)\n",
    "\n",
    "# have a look to first rows of the datasets and general information\n",
    "profiles = pd.read_csv('profiles.csv')\n",
    "display(profiles.head(5))\n",
    "print(profiles.info())"
   ]
  },
  {
   "cell_type": "markdown",
   "metadata": {},
   "source": [
    "We have 30 columns and 59 946 rows. Each row describe a user and his/her characteristics. \n",
    "Some data are missing probably because users do not necesseraly complete all their profiles."
   ]
  },
  {
   "cell_type": "markdown",
   "metadata": {},
   "source": [
    "### Value we want to predict\n",
    "\n",
    "***\n",
    "\n",
    "Let's first have a look to our value: sign."
   ]
  },
  {
   "cell_type": "code",
   "execution_count": 2,
   "metadata": {},
   "outputs": [
    {
     "name": "stdout",
     "output_type": "stream",
     "text": [
      "NaN                                              11056\n",
      "gemini and it&rsquo;s fun to think about          1782\n",
      "scorpio and it&rsquo;s fun to think about         1772\n",
      "leo and it&rsquo;s fun to think about             1692\n",
      "libra and it&rsquo;s fun to think about           1649\n",
      "taurus and it&rsquo;s fun to think about          1640\n",
      "cancer and it&rsquo;s fun to think about          1597\n",
      "pisces and it&rsquo;s fun to think about          1592\n",
      "sagittarius and it&rsquo;s fun to think about     1583\n",
      "virgo and it&rsquo;s fun to think about           1574\n",
      "aries and it&rsquo;s fun to think about           1573\n",
      "aquarius and it&rsquo;s fun to think about        1503\n",
      "virgo but it doesn&rsquo;t matter                 1497\n",
      "leo but it doesn&rsquo;t matter                   1457\n",
      "cancer but it doesn&rsquo;t matter                1454\n",
      "gemini but it doesn&rsquo;t matter                1453\n",
      "taurus but it doesn&rsquo;t matter                1450\n",
      "libra but it doesn&rsquo;t matter                 1408\n",
      "aquarius but it doesn&rsquo;t matter              1408\n",
      "capricorn and it&rsquo;s fun to think about       1376\n",
      "sagittarius but it doesn&rsquo;t matter           1375\n",
      "aries but it doesn&rsquo;t matter                 1373\n",
      "capricorn but it doesn&rsquo;t matter             1319\n",
      "pisces but it doesn&rsquo;t matter                1300\n",
      "scorpio but it doesn&rsquo;t matter               1264\n",
      "leo                                               1159\n",
      "libra                                             1098\n",
      "cancer                                            1092\n",
      "virgo                                             1029\n",
      "scorpio                                           1020\n",
      "gemini                                            1013\n",
      "taurus                                            1001\n",
      "aries                                              996\n",
      "pisces                                             992\n",
      "aquarius                                           954\n",
      "sagittarius                                        937\n",
      "capricorn                                          833\n",
      "scorpio and it matters a lot                        78\n",
      "leo and it matters a lot                            66\n",
      "aquarius and it matters a lot                       63\n",
      "cancer and it matters a lot                         63\n",
      "gemini and it matters a lot                         62\n",
      "pisces and it matters a lot                         62\n",
      "libra and it matters a lot                          52\n",
      "taurus and it matters a lot                         49\n",
      "sagittarius and it matters a lot                    47\n",
      "aries and it matters a lot                          47\n",
      "capricorn and it matters a lot                      45\n",
      "virgo and it matters a lot                          41\n",
      "Name: sign, dtype: int64\n"
     ]
    }
   ],
   "source": [
    "#show all the categories in sign and their counts\n",
    "print(profiles.sign.value_counts(dropna=False))"
   ]
  },
  {
   "cell_type": "markdown",
   "metadata": {},
   "source": [
    "As discussed above, we can see that there is an important part of Null Values (11 056).\n",
    "\n",
    "Plus, we expected to find 12 signs but there's actually additional categories to precise whether or not it matters for the user. \n",
    "\n",
    "This precision doesn't matter for us, let's regroup the signs."
   ]
  },
  {
   "cell_type": "code",
   "execution_count": 3,
   "metadata": {},
   "outputs": [
    {
     "name": "stdout",
     "output_type": "stream",
     "text": [
      "NaN            11056\n",
      "leo             4374\n",
      "gemini          4310\n",
      "libra           4207\n",
      "cancer          4206\n",
      "virgo           4141\n",
      "taurus          4140\n",
      "scorpio         4134\n",
      "aries           3989\n",
      "pisces          3946\n",
      "sagittarius     3942\n",
      "aquarius        3928\n",
      "capricorn       3573\n",
      "Name: sign_clean, dtype: int64\n"
     ]
    }
   ],
   "source": [
    "#only the first word of each value matters\n",
    "profiles['sign_clean'] = profiles.sign.apply(lambda x: x.split()[0] if type(x) == str else x)\n",
    "\n",
    "# check if the cleaning is efficient\n",
    "print(profiles.sign_clean.value_counts(dropna=False))"
   ]
  },
  {
   "cell_type": "markdown",
   "metadata": {},
   "source": [
    "Our label column is ready. Let's now have a look to the features that could help to predict sign."
   ]
  },
  {
   "cell_type": "markdown",
   "metadata": {},
   "source": [
    "### Features\n",
    "\n",
    "***"
   ]
  },
  {
   "cell_type": "markdown",
   "metadata": {},
   "source": [
    "Here are the features we believe could impact sign:\n",
    "'body_type', 'diet', 'drinks', 'drugs', 'education', 'income', 'job', 'orientation', 'smokes', 'religion'\n",
    "\n",
    "Let's explore one by one."
   ]
  },
  {
   "cell_type": "markdown",
   "metadata": {},
   "source": [
    "#### body_type\n",
    "***"
   ]
  },
  {
   "cell_type": "code",
   "execution_count": 4,
   "metadata": {},
   "outputs": [
    {
     "name": "stdout",
     "output_type": "stream",
     "text": [
      "average           14652\n",
      "fit               12711\n",
      "athletic          11819\n",
      "NaN                5296\n",
      "thin               4711\n",
      "curvy              3924\n",
      "a little extra     2629\n",
      "skinny             1777\n",
      "full figured       1009\n",
      "overweight          444\n",
      "jacked              421\n",
      "used up             355\n",
      "rather not say      198\n",
      "Name: body_type, dtype: int64\n"
     ]
    },
    {
     "data": {
      "image/png": "[encoded data removed]",
      "text/plain": [
       "<Figure size 432x288 with 1 Axes>"
      ]
     },
     "metadata": {
      "needs_background": "light"
     },
     "output_type": "display_data"
    }
   ],
   "source": [
    "# import needed libraries to plot figures\n",
    "import matplotlib.pyplot as plt\n",
    "import seaborn as sns\n",
    "\n",
    "# look at the different categories\n",
    "print(profiles.body_type.value_counts(dropna=False))\n",
    "\n",
    "sns.countplot(data=profiles, y=\"body_type\", hue='sex')\n",
    "plt.title('body_type categories')\n",
    "plt.show()"
   ]
  },
  {
   "cell_type": "markdown",
   "metadata": {},
   "source": [
    "We can notice that some description are more used by women than by man (for instance: curvy) and in the opposite way as well.\n",
    "\n",
    "Nothing specific to modify here."
   ]
  },
  {
   "cell_type": "markdown",
   "metadata": {},
   "source": [
    "#### diet\n",
    "***"
   ]
  },
  {
   "cell_type": "code",
   "execution_count": 5,
   "metadata": {},
   "outputs": [
    {
     "data": {
      "image/png": "[encoded data removed]",
      "text/plain": [
       "<Figure size 432x288 with 1 Axes>"
      ]
     },
     "metadata": {
      "needs_background": "light"
     },
     "output_type": "display_data"
    }
   ],
   "source": [
    "# look at the different categories\n",
    "sns.countplot(data=profiles, y=\"diet\")\n",
    "plt.title('diet categories')\n",
    "plt.show()"
   ]
  },
  {
   "cell_type": "markdown",
   "metadata": {},
   "source": [
    "#### drinks\n",
    "***"
   ]
  },
  {
   "cell_type": "code",
   "execution_count": 6,
   "metadata": {},
   "outputs": [
    {
     "data": {
      "image/png": "[encoded data removed]",
      "text/plain": [
       "<Figure size 432x288 with 1 Axes>"
      ]
     },
     "metadata": {
      "needs_background": "light"
     },
     "output_type": "display_data"
    }
   ],
   "source": [
    "# look at the different categories\n",
    "sns.countplot(data=profiles, y=\"drinks\")\n",
    "plt.title('drinks categories')\n",
    "plt.show()"
   ]
  },
  {
   "cell_type": "markdown",
   "metadata": {},
   "source": [
    "#### drugs\n",
    "***"
   ]
  },
  {
   "cell_type": "code",
   "execution_count": 7,
   "metadata": {},
   "outputs": [
    {
     "data": {
      "image/png": "[encoded data removed]",
      "text/plain": [
       "<Figure size 432x288 with 1 Axes>"
      ]
     },
     "metadata": {
      "needs_background": "light"
     },
     "output_type": "display_data"
    }
   ],
   "source": [
    "# look at the different categories\n",
    "sns.countplot(data=profiles, y=\"drugs\")\n",
    "plt.title('drugs categories')\n",
    "plt.show()"
   ]
  },
  {
   "cell_type": "markdown",
   "metadata": {},
   "source": [
    "#### education\n",
    "***"
   ]
  },
  {
   "cell_type": "code",
   "execution_count": 8,
   "metadata": {},
   "outputs": [
    {
     "data": {
      "image/png": "[encoded data removed]",
      "text/plain": [
       "<Figure size 432x288 with 1 Axes>"
      ]
     },
     "metadata": {
      "needs_background": "light"
     },
     "output_type": "display_data"
    }
   ],
   "source": [
    "# look at the different categories\n",
    "sns.countplot(data=profiles, y=\"education\")\n",
    "plt.title('education categories')\n",
    "plt.show()"
   ]
  },
  {
   "cell_type": "markdown",
   "metadata": {},
   "source": [
    "#### income\n",
    "***"
   ]
  },
  {
   "cell_type": "code",
   "execution_count": 9,
   "metadata": {},
   "outputs": [
    {
     "data": {
      "image/png": "[encoded data removed]",
      "text/plain": [
       "<Figure size 360x360 with 1 Axes>"
      ]
     },
     "metadata": {
      "needs_background": "light"
     },
     "output_type": "display_data"
    },
    {
     "name": "stdout",
     "output_type": "stream",
     "text": [
      "-1          48442\n",
      " 20000       2952\n",
      " 100000      1621\n",
      " 80000       1111\n",
      " 30000       1048\n",
      " 40000       1005\n",
      " 50000        975\n",
      " 60000        736\n",
      " 70000        707\n",
      " 150000       631\n",
      " 1000000      521\n",
      " 250000       149\n",
      " 500000        48\n",
      "Name: income, dtype: int64\n"
     ]
    }
   ],
   "source": [
    "# look at the different categories\n",
    "sns.displot(data=profiles, x=\"income\", bins=50)\n",
    "plt.title('income distribution')\n",
    "plt.show()\n",
    "print(profiles.income.value_counts(dropna=False))"
   ]
  },
  {
   "cell_type": "markdown",
   "metadata": {},
   "source": [
    "A vaste majority of user does not mention their salary, we should then remove this feature out of our model."
   ]
  },
  {
   "cell_type": "markdown",
   "metadata": {},
   "source": [
    "#### job\n",
    "***"
   ]
  },
  {
   "cell_type": "code",
   "execution_count": 10,
   "metadata": {},
   "outputs": [
    {
     "data": {
      "image/png": "[encoded data removed]",
      "text/plain": [
       "<Figure size 432x288 with 1 Axes>"
      ]
     },
     "metadata": {
      "needs_background": "light"
     },
     "output_type": "display_data"
    }
   ],
   "source": [
    "# look at the different categories\n",
    "sns.countplot(data=profiles, y=\"job\")\n",
    "plt.title('job categories')\n",
    "plt.show()"
   ]
  },
  {
   "cell_type": "markdown",
   "metadata": {},
   "source": [
    "#### orientation\n",
    "***"
   ]
  },
  {
   "cell_type": "code",
   "execution_count": 11,
   "metadata": {},
   "outputs": [
    {
     "data": {
      "image/png": "[encoded data removed]",
      "text/plain": [
       "<Figure size 432x288 with 1 Axes>"
      ]
     },
     "metadata": {
      "needs_background": "light"
     },
     "output_type": "display_data"
    }
   ],
   "source": [
    "# look at the different categories\n",
    "sns.countplot(data=profiles, y=\"orientation\")\n",
    "plt.title('orientation categories')\n",
    "plt.show()"
   ]
  },
  {
   "cell_type": "markdown",
   "metadata": {},
   "source": [
    "#### smokes\n",
    "***"
   ]
  },
  {
   "cell_type": "code",
   "execution_count": 12,
   "metadata": {},
   "outputs": [
    {
     "data": {
      "image/png": "[encoded data removed]",
      "text/plain": [
       "<Figure size 432x288 with 1 Axes>"
      ]
     },
     "metadata": {
      "needs_background": "light"
     },
     "output_type": "display_data"
    }
   ],
   "source": [
    "# look at the different categories\n",
    "sns.countplot(data=profiles, y=\"smokes\")\n",
    "plt.title('smokes categories')\n",
    "plt.show()"
   ]
  },
  {
   "cell_type": "markdown",
   "metadata": {},
   "source": [
    "#### religion\n",
    "***"
   ]
  },
  {
   "cell_type": "code",
   "execution_count": 13,
   "metadata": {},
   "outputs": [
    {
     "name": "stdout",
     "output_type": "stream",
     "text": [
      "NaN                                           20226\n",
      "agnosticism                                    2724\n",
      "other                                          2691\n",
      "agnosticism but not too serious about it       2636\n",
      "agnosticism and laughing about it              2496\n",
      "catholicism but not too serious about it       2318\n",
      "atheism                                        2175\n",
      "other and laughing about it                    2119\n",
      "atheism and laughing about it                  2074\n",
      "christianity                                   1957\n",
      "christianity but not too serious about it      1952\n",
      "other but not too serious about it             1554\n",
      "judaism but not too serious about it           1517\n",
      "atheism but not too serious about it           1318\n",
      "catholicism                                    1064\n",
      "christianity and somewhat serious about it      927\n",
      "atheism and somewhat serious about it           848\n",
      "other and somewhat serious about it             846\n",
      "catholicism and laughing about it               726\n",
      "judaism and laughing about it                   681\n",
      "buddhism but not too serious about it           650\n",
      "agnosticism and somewhat serious about it       642\n",
      "judaism                                         612\n",
      "christianity and very serious about it          578\n",
      "atheism and very serious about it               570\n",
      "catholicism and somewhat serious about it       548\n",
      "other and very serious about it                 533\n",
      "buddhism and laughing about it                  466\n",
      "buddhism                                        403\n",
      "christianity and laughing about it              373\n",
      "buddhism and somewhat serious about it          359\n",
      "agnosticism and very serious about it           314\n",
      "judaism and somewhat serious about it           266\n",
      "hinduism but not too serious about it           227\n",
      "hinduism                                        107\n",
      "catholicism and very serious about it           102\n",
      "buddhism and very serious about it               70\n",
      "hinduism and somewhat serious about it           58\n",
      "islam                                            48\n",
      "hinduism and laughing about it                   44\n",
      "islam but not too serious about it               40\n",
      "islam and somewhat serious about it              22\n",
      "judaism and very serious about it                22\n",
      "islam and laughing about it                      16\n",
      "hinduism and very serious about it               14\n",
      "islam and very serious about it                  13\n",
      "Name: religion, dtype: int64\n"
     ]
    }
   ],
   "source": [
    "# look at the different categories and their counts\n",
    "print(profiles.religion.value_counts(dropna=False))"
   ]
  },
  {
   "cell_type": "markdown",
   "metadata": {},
   "source": [
    "A lot of precision is bring to Religion with subcategories. We don't need that level of precision so let's regroup categories as we did with sign."
   ]
  },
  {
   "cell_type": "code",
   "execution_count": 14,
   "metadata": {},
   "outputs": [
    {
     "name": "stdout",
     "output_type": "stream",
     "text": [
      "NaN             20226\n",
      "agnosticism      8812\n",
      "other            7743\n",
      "atheism          6985\n",
      "christianity     5787\n",
      "catholicism      4758\n",
      "judaism          3098\n",
      "buddhism         1948\n",
      "hinduism          450\n",
      "islam             139\n",
      "Name: religion_clean, dtype: int64\n"
     ]
    }
   ],
   "source": [
    "# regroup categories\n",
    "profiles['religion_clean'] = profiles.religion.apply(lambda x: x.split()[0] if type(x) == str else x)\n",
    "\n",
    "# check\n",
    "print(profiles.religion_clean.value_counts(dropna=False))"
   ]
  },
  {
   "cell_type": "markdown",
   "metadata": {},
   "source": [
    "It looks better.\n",
    "\n",
    "Let's do a final polish, and the cleaning will be done."
   ]
  },
  {
   "cell_type": "markdown",
   "metadata": {},
   "source": [
    "#### Finalize cleaning by removing NaN\n",
    "***"
   ]
  },
  {
   "cell_type": "code",
   "execution_count": 15,
   "metadata": {},
   "outputs": [
    {
     "name": "stdout",
     "output_type": "stream",
     "text": [
      "<class 'pandas.core.frame.DataFrame'>\n",
      "RangeIndex: 59946 entries, 0 to 59945\n",
      "Data columns (total 10 columns):\n",
      " #   Column          Non-Null Count  Dtype \n",
      "---  ------          --------------  ----- \n",
      " 0   body_type       54650 non-null  object\n",
      " 1   diet            35551 non-null  object\n",
      " 2   drinks          56961 non-null  object\n",
      " 3   drugs           45866 non-null  object\n",
      " 4   education       53318 non-null  object\n",
      " 5   job             51748 non-null  object\n",
      " 6   orientation     59946 non-null  object\n",
      " 7   smokes          54434 non-null  object\n",
      " 8   religion_clean  39720 non-null  object\n",
      " 9   sign_clean      48890 non-null  object\n",
      "dtypes: object(10)\n",
      "memory usage: 4.6+ MB\n",
      "None\n"
     ]
    }
   ],
   "source": [
    "# our selected columns for our model\n",
    "columns = ['body_type', 'diet', 'drinks', 'drugs', 'education', 'job', 'orientation', 'smokes', 'religion_clean', 'sign_clean']\n",
    "\n",
    "# select the dataset will be working on\n",
    "dataset = profiles[columns]\n",
    "print(dataset.info())"
   ]
  },
  {
   "cell_type": "markdown",
   "metadata": {},
   "source": [
    "We will now remove all the NaN values within this dataset."
   ]
  },
  {
   "cell_type": "code",
   "execution_count": 16,
   "metadata": {},
   "outputs": [
    {
     "name": "stdout",
     "output_type": "stream",
     "text": [
      "<class 'pandas.core.frame.DataFrame'>\n",
      "Int64Index: 15504 entries, 0 to 59944\n",
      "Data columns (total 10 columns):\n",
      " #   Column          Non-Null Count  Dtype \n",
      "---  ------          --------------  ----- \n",
      " 0   body_type       15504 non-null  object\n",
      " 1   diet            15504 non-null  object\n",
      " 2   drinks          15504 non-null  object\n",
      " 3   drugs           15504 non-null  object\n",
      " 4   education       15504 non-null  object\n",
      " 5   job             15504 non-null  object\n",
      " 6   orientation     15504 non-null  object\n",
      " 7   smokes          15504 non-null  object\n",
      " 8   religion_clean  15504 non-null  object\n",
      " 9   sign_clean      15504 non-null  object\n",
      "dtypes: object(10)\n",
      "memory usage: 1.3+ MB\n",
      "None\n"
     ]
    },
    {
     "data": {
      "text/html": [
       "<div>\n",
       "<style scoped>\n",
       "    .dataframe tbody tr th:only-of-type {\n",
       "        vertical-align: middle;\n",
       "    }\n",
       "\n",
       "    .dataframe tbody tr th {\n",
       "        vertical-align: top;\n",
       "    }\n",
       "\n",
       "    .dataframe thead th {\n",
       "        text-align: right;\n",
       "    }\n",
       "</style>\n",
       "<table border=\"1\" class=\"dataframe\">\n",
       "  <thead>\n",
       "    <tr style=\"text-align: right;\">\n",
       "      <th></th>\n",
       "      <th>body_type</th>\n",
       "      <th>diet</th>\n",
       "      <th>drinks</th>\n",
       "      <th>drugs</th>\n",
       "      <th>education</th>\n",
       "      <th>job</th>\n",
       "      <th>orientation</th>\n",
       "      <th>smokes</th>\n",
       "      <th>religion_clean</th>\n",
       "      <th>sign_clean</th>\n",
       "    </tr>\n",
       "  </thead>\n",
       "  <tbody>\n",
       "    <tr>\n",
       "      <th>0</th>\n",
       "      <td>a little extra</td>\n",
       "      <td>strictly anything</td>\n",
       "      <td>socially</td>\n",
       "      <td>never</td>\n",
       "      <td>working on college/university</td>\n",
       "      <td>transportation</td>\n",
       "      <td>straight</td>\n",
       "      <td>sometimes</td>\n",
       "      <td>agnosticism</td>\n",
       "      <td>gemini</td>\n",
       "    </tr>\n",
       "    <tr>\n",
       "      <th>1</th>\n",
       "      <td>average</td>\n",
       "      <td>mostly other</td>\n",
       "      <td>often</td>\n",
       "      <td>sometimes</td>\n",
       "      <td>working on space camp</td>\n",
       "      <td>hospitality / travel</td>\n",
       "      <td>straight</td>\n",
       "      <td>no</td>\n",
       "      <td>agnosticism</td>\n",
       "      <td>cancer</td>\n",
       "    </tr>\n",
       "    <tr>\n",
       "      <th>7</th>\n",
       "      <td>average</td>\n",
       "      <td>mostly anything</td>\n",
       "      <td>socially</td>\n",
       "      <td>never</td>\n",
       "      <td>graduated from college/university</td>\n",
       "      <td>artistic / musical / writer</td>\n",
       "      <td>straight</td>\n",
       "      <td>no</td>\n",
       "      <td>christianity</td>\n",
       "      <td>sagittarius</td>\n",
       "    </tr>\n",
       "    <tr>\n",
       "      <th>9</th>\n",
       "      <td>athletic</td>\n",
       "      <td>mostly anything</td>\n",
       "      <td>not at all</td>\n",
       "      <td>never</td>\n",
       "      <td>working on two-year college</td>\n",
       "      <td>student</td>\n",
       "      <td>straight</td>\n",
       "      <td>no</td>\n",
       "      <td>atheism</td>\n",
       "      <td>cancer</td>\n",
       "    </tr>\n",
       "    <tr>\n",
       "      <th>11</th>\n",
       "      <td>average</td>\n",
       "      <td>mostly anything</td>\n",
       "      <td>socially</td>\n",
       "      <td>never</td>\n",
       "      <td>graduated from college/university</td>\n",
       "      <td>banking / financial / real estate</td>\n",
       "      <td>straight</td>\n",
       "      <td>no</td>\n",
       "      <td>christianity</td>\n",
       "      <td>leo</td>\n",
       "    </tr>\n",
       "  </tbody>\n",
       "</table>\n",
       "</div>"
      ],
      "text/plain": [
       "         body_type               diet      drinks      drugs                          education                                job orientation     smokes religion_clean   sign_clean\n",
       "0   a little extra  strictly anything    socially      never      working on college/university                     transportation    straight  sometimes    agnosticism       gemini\n",
       "1          average       mostly other       often  sometimes              working on space camp               hospitality / travel    straight         no    agnosticism       cancer\n",
       "7          average    mostly anything    socially      never  graduated from college/university        artistic / musical / writer    straight         no   christianity  sagittarius\n",
       "9         athletic    mostly anything  not at all      never        working on two-year college                            student    straight         no        atheism       cancer\n",
       "11         average    mostly anything    socially      never  graduated from college/university  banking / financial / real estate    straight         no   christianity          leo"
      ]
     },
     "metadata": {},
     "output_type": "display_data"
    }
   ],
   "source": [
    "# remove NaN values\n",
    "dataset = dataset.dropna()\n",
    "\n",
    "# check\n",
    "print(dataset.info())\n",
    "display(dataset.head())"
   ]
  },
  {
   "cell_type": "markdown",
   "metadata": {},
   "source": [
    "We end up with a dataset with 15 504 non null samples out of the 59 946 initial.\n",
    "15 504 is still a relatively high amount of data to build a model. \n",
    "\n",
    "But let's have a look if we still have a homogeneous distribution for our label 'sign' after removing the NaN."
   ]
  },
  {
   "cell_type": "code",
   "execution_count": 17,
   "metadata": {},
   "outputs": [
    {
     "data": {
      "image/png": "[encoded data removed]",
      "text/plain": [
       "<Figure size 432x288 with 1 Axes>"
      ]
     },
     "metadata": {
      "needs_background": "light"
     },
     "output_type": "display_data"
    }
   ],
   "source": [
    "# check distribution of categories\n",
    "sns.countplot(data=dataset, x='sign_clean')\n",
    "plt.title('Distribution of sign after cleaning')\n",
    "plt.xticks(rotation=45)\n",
    "plt.show()"
   ]
  },
  {
   "cell_type": "markdown",
   "metadata": {},
   "source": [
    "Each label is well represented, we are ready to move forward."
   ]
  },
  {
   "cell_type": "markdown",
   "metadata": {},
   "source": [
    "## 2. Prepare the data\n",
    "\n",
    "***\n",
    "\n",
    "### Convert strings into integers\n",
    "\n",
    "***\n",
    "\n",
    "All our features are categorical of type string. We need to convert into integers before building the model. The selected features are not ordinal data, we don't want numbers that will be given represent any order or weight. For that we will use One-Hot encoding that has the benefit of not weighting a value improperly.\n",
    "\n",
    "There are many libraries out there that support one-hot encoding but the simplest one is using pandas' .get_dummies() method."
   ]
  },
  {
   "cell_type": "code",
   "execution_count": 18,
   "metadata": {},
   "outputs": [
    {
     "data": {
      "text/html": [
       "<div>\n",
       "<style scoped>\n",
       "    .dataframe tbody tr th:only-of-type {\n",
       "        vertical-align: middle;\n",
       "    }\n",
       "\n",
       "    .dataframe tbody tr th {\n",
       "        vertical-align: top;\n",
       "    }\n",
       "\n",
       "    .dataframe thead th {\n",
       "        text-align: right;\n",
       "    }\n",
       "</style>\n",
       "<table border=\"1\" class=\"dataframe\">\n",
       "  <thead>\n",
       "    <tr style=\"text-align: right;\">\n",
       "      <th></th>\n",
       "      <th>body_type_a little extra</th>\n",
       "      <th>body_type_athletic</th>\n",
       "      <th>body_type_average</th>\n",
       "      <th>body_type_curvy</th>\n",
       "      <th>body_type_fit</th>\n",
       "      <th>body_type_full figured</th>\n",
       "      <th>body_type_jacked</th>\n",
       "      <th>body_type_overweight</th>\n",
       "      <th>body_type_rather not say</th>\n",
       "      <th>body_type_skinny</th>\n",
       "      <th>body_type_thin</th>\n",
       "      <th>body_type_used up</th>\n",
       "      <th>diet_anything</th>\n",
       "      <th>diet_halal</th>\n",
       "      <th>diet_kosher</th>\n",
       "      <th>diet_mostly anything</th>\n",
       "      <th>diet_mostly halal</th>\n",
       "      <th>diet_mostly kosher</th>\n",
       "      <th>diet_mostly other</th>\n",
       "      <th>diet_mostly vegan</th>\n",
       "      <th>diet_mostly vegetarian</th>\n",
       "      <th>diet_other</th>\n",
       "      <th>diet_strictly anything</th>\n",
       "      <th>diet_strictly halal</th>\n",
       "      <th>diet_strictly kosher</th>\n",
       "      <th>diet_strictly other</th>\n",
       "      <th>diet_strictly vegan</th>\n",
       "      <th>diet_strictly vegetarian</th>\n",
       "      <th>diet_vegan</th>\n",
       "      <th>diet_vegetarian</th>\n",
       "      <th>drinks_desperately</th>\n",
       "      <th>drinks_not at all</th>\n",
       "      <th>drinks_often</th>\n",
       "      <th>drinks_rarely</th>\n",
       "      <th>drinks_socially</th>\n",
       "      <th>drinks_very often</th>\n",
       "      <th>drugs_never</th>\n",
       "      <th>drugs_often</th>\n",
       "      <th>drugs_sometimes</th>\n",
       "      <th>education_college/university</th>\n",
       "      <th>education_dropped out of college/university</th>\n",
       "      <th>education_dropped out of high school</th>\n",
       "      <th>education_dropped out of law school</th>\n",
       "      <th>education_dropped out of masters program</th>\n",
       "      <th>education_dropped out of med school</th>\n",
       "      <th>education_dropped out of ph.d program</th>\n",
       "      <th>education_dropped out of space camp</th>\n",
       "      <th>education_dropped out of two-year college</th>\n",
       "      <th>education_graduated from college/university</th>\n",
       "      <th>education_graduated from high school</th>\n",
       "      <th>education_graduated from law school</th>\n",
       "      <th>education_graduated from masters program</th>\n",
       "      <th>education_graduated from med school</th>\n",
       "      <th>education_graduated from ph.d program</th>\n",
       "      <th>education_graduated from space camp</th>\n",
       "      <th>education_graduated from two-year college</th>\n",
       "      <th>education_high school</th>\n",
       "      <th>education_law school</th>\n",
       "      <th>education_masters program</th>\n",
       "      <th>education_med school</th>\n",
       "      <th>education_ph.d program</th>\n",
       "      <th>education_space camp</th>\n",
       "      <th>education_two-year college</th>\n",
       "      <th>education_working on college/university</th>\n",
       "      <th>education_working on high school</th>\n",
       "      <th>education_working on law school</th>\n",
       "      <th>education_working on masters program</th>\n",
       "      <th>education_working on med school</th>\n",
       "      <th>education_working on ph.d program</th>\n",
       "      <th>education_working on space camp</th>\n",
       "      <th>education_working on two-year college</th>\n",
       "      <th>job_artistic / musical / writer</th>\n",
       "      <th>job_banking / financial / real estate</th>\n",
       "      <th>job_clerical / administrative</th>\n",
       "      <th>job_computer / hardware / software</th>\n",
       "      <th>job_construction / craftsmanship</th>\n",
       "      <th>job_education / academia</th>\n",
       "      <th>job_entertainment / media</th>\n",
       "      <th>job_executive / management</th>\n",
       "      <th>job_hospitality / travel</th>\n",
       "      <th>job_law / legal services</th>\n",
       "      <th>job_medicine / health</th>\n",
       "      <th>job_military</th>\n",
       "      <th>job_other</th>\n",
       "      <th>job_political / government</th>\n",
       "      <th>job_rather not say</th>\n",
       "      <th>job_retired</th>\n",
       "      <th>job_sales / marketing / biz dev</th>\n",
       "      <th>job_science / tech / engineering</th>\n",
       "      <th>job_student</th>\n",
       "      <th>job_transportation</th>\n",
       "      <th>job_unemployed</th>\n",
       "      <th>orientation_bisexual</th>\n",
       "      <th>orientation_gay</th>\n",
       "      <th>orientation_straight</th>\n",
       "      <th>smokes_no</th>\n",
       "      <th>smokes_sometimes</th>\n",
       "      <th>smokes_trying to quit</th>\n",
       "      <th>smokes_when drinking</th>\n",
       "      <th>smokes_yes</th>\n",
       "      <th>religion_clean_agnosticism</th>\n",
       "      <th>religion_clean_atheism</th>\n",
       "      <th>religion_clean_buddhism</th>\n",
       "      <th>religion_clean_catholicism</th>\n",
       "      <th>religion_clean_christianity</th>\n",
       "      <th>religion_clean_hinduism</th>\n",
       "      <th>religion_clean_islam</th>\n",
       "      <th>religion_clean_judaism</th>\n",
       "      <th>religion_clean_other</th>\n",
       "    </tr>\n",
       "  </thead>\n",
       "  <tbody>\n",
       "    <tr>\n",
       "      <th>0</th>\n",
       "      <td>1</td>\n",
       "      <td>0</td>\n",
       "      <td>0</td>\n",
       "      <td>0</td>\n",
       "      <td>0</td>\n",
       "      <td>0</td>\n",
       "      <td>0</td>\n",
       "      <td>0</td>\n",
       "      <td>0</td>\n",
       "      <td>0</td>\n",
       "      <td>0</td>\n",
       "      <td>0</td>\n",
       "      <td>0</td>\n",
       "      <td>0</td>\n",
       "      <td>0</td>\n",
       "      <td>0</td>\n",
       "      <td>0</td>\n",
       "      <td>0</td>\n",
       "      <td>0</td>\n",
       "      <td>0</td>\n",
       "      <td>0</td>\n",
       "      <td>0</td>\n",
       "      <td>1</td>\n",
       "      <td>0</td>\n",
       "      <td>0</td>\n",
       "      <td>0</td>\n",
       "      <td>0</td>\n",
       "      <td>0</td>\n",
       "      <td>0</td>\n",
       "      <td>0</td>\n",
       "      <td>0</td>\n",
       "      <td>0</td>\n",
       "      <td>0</td>\n",
       "      <td>0</td>\n",
       "      <td>1</td>\n",
       "      <td>0</td>\n",
       "      <td>1</td>\n",
       "      <td>0</td>\n",
       "      <td>0</td>\n",
       "      <td>0</td>\n",
       "      <td>0</td>\n",
       "      <td>0</td>\n",
       "      <td>0</td>\n",
       "      <td>0</td>\n",
       "      <td>0</td>\n",
       "      <td>0</td>\n",
       "      <td>0</td>\n",
       "      <td>0</td>\n",
       "      <td>0</td>\n",
       "      <td>0</td>\n",
       "      <td>0</td>\n",
       "      <td>0</td>\n",
       "      <td>0</td>\n",
       "      <td>0</td>\n",
       "      <td>0</td>\n",
       "      <td>0</td>\n",
       "      <td>0</td>\n",
       "      <td>0</td>\n",
       "      <td>0</td>\n",
       "      <td>0</td>\n",
       "      <td>0</td>\n",
       "      <td>0</td>\n",
       "      <td>0</td>\n",
       "      <td>1</td>\n",
       "      <td>0</td>\n",
       "      <td>0</td>\n",
       "      <td>0</td>\n",
       "      <td>0</td>\n",
       "      <td>0</td>\n",
       "      <td>0</td>\n",
       "      <td>0</td>\n",
       "      <td>0</td>\n",
       "      <td>0</td>\n",
       "      <td>0</td>\n",
       "      <td>0</td>\n",
       "      <td>0</td>\n",
       "      <td>0</td>\n",
       "      <td>0</td>\n",
       "      <td>0</td>\n",
       "      <td>0</td>\n",
       "      <td>0</td>\n",
       "      <td>0</td>\n",
       "      <td>0</td>\n",
       "      <td>0</td>\n",
       "      <td>0</td>\n",
       "      <td>0</td>\n",
       "      <td>0</td>\n",
       "      <td>0</td>\n",
       "      <td>0</td>\n",
       "      <td>0</td>\n",
       "      <td>1</td>\n",
       "      <td>0</td>\n",
       "      <td>0</td>\n",
       "      <td>0</td>\n",
       "      <td>1</td>\n",
       "      <td>0</td>\n",
       "      <td>1</td>\n",
       "      <td>0</td>\n",
       "      <td>0</td>\n",
       "      <td>0</td>\n",
       "      <td>1</td>\n",
       "      <td>0</td>\n",
       "      <td>0</td>\n",
       "      <td>0</td>\n",
       "      <td>0</td>\n",
       "      <td>0</td>\n",
       "      <td>0</td>\n",
       "      <td>0</td>\n",
       "      <td>0</td>\n",
       "    </tr>\n",
       "    <tr>\n",
       "      <th>1</th>\n",
       "      <td>0</td>\n",
       "      <td>0</td>\n",
       "      <td>1</td>\n",
       "      <td>0</td>\n",
       "      <td>0</td>\n",
       "      <td>0</td>\n",
       "      <td>0</td>\n",
       "      <td>0</td>\n",
       "      <td>0</td>\n",
       "      <td>0</td>\n",
       "      <td>0</td>\n",
       "      <td>0</td>\n",
       "      <td>0</td>\n",
       "      <td>0</td>\n",
       "      <td>0</td>\n",
       "      <td>0</td>\n",
       "      <td>0</td>\n",
       "      <td>0</td>\n",
       "      <td>1</td>\n",
       "      <td>0</td>\n",
       "      <td>0</td>\n",
       "      <td>0</td>\n",
       "      <td>0</td>\n",
       "      <td>0</td>\n",
       "      <td>0</td>\n",
       "      <td>0</td>\n",
       "      <td>0</td>\n",
       "      <td>0</td>\n",
       "      <td>0</td>\n",
       "      <td>0</td>\n",
       "      <td>0</td>\n",
       "      <td>0</td>\n",
       "      <td>1</td>\n",
       "      <td>0</td>\n",
       "      <td>0</td>\n",
       "      <td>0</td>\n",
       "      <td>0</td>\n",
       "      <td>0</td>\n",
       "      <td>1</td>\n",
       "      <td>0</td>\n",
       "      <td>0</td>\n",
       "      <td>0</td>\n",
       "      <td>0</td>\n",
       "      <td>0</td>\n",
       "      <td>0</td>\n",
       "      <td>0</td>\n",
       "      <td>0</td>\n",
       "      <td>0</td>\n",
       "      <td>0</td>\n",
       "      <td>0</td>\n",
       "      <td>0</td>\n",
       "      <td>0</td>\n",
       "      <td>0</td>\n",
       "      <td>0</td>\n",
       "      <td>0</td>\n",
       "      <td>0</td>\n",
       "      <td>0</td>\n",
       "      <td>0</td>\n",
       "      <td>0</td>\n",
       "      <td>0</td>\n",
       "      <td>0</td>\n",
       "      <td>0</td>\n",
       "      <td>0</td>\n",
       "      <td>0</td>\n",
       "      <td>0</td>\n",
       "      <td>0</td>\n",
       "      <td>0</td>\n",
       "      <td>0</td>\n",
       "      <td>0</td>\n",
       "      <td>1</td>\n",
       "      <td>0</td>\n",
       "      <td>0</td>\n",
       "      <td>0</td>\n",
       "      <td>0</td>\n",
       "      <td>0</td>\n",
       "      <td>0</td>\n",
       "      <td>0</td>\n",
       "      <td>0</td>\n",
       "      <td>0</td>\n",
       "      <td>1</td>\n",
       "      <td>0</td>\n",
       "      <td>0</td>\n",
       "      <td>0</td>\n",
       "      <td>0</td>\n",
       "      <td>0</td>\n",
       "      <td>0</td>\n",
       "      <td>0</td>\n",
       "      <td>0</td>\n",
       "      <td>0</td>\n",
       "      <td>0</td>\n",
       "      <td>0</td>\n",
       "      <td>0</td>\n",
       "      <td>0</td>\n",
       "      <td>0</td>\n",
       "      <td>1</td>\n",
       "      <td>1</td>\n",
       "      <td>0</td>\n",
       "      <td>0</td>\n",
       "      <td>0</td>\n",
       "      <td>0</td>\n",
       "      <td>1</td>\n",
       "      <td>0</td>\n",
       "      <td>0</td>\n",
       "      <td>0</td>\n",
       "      <td>0</td>\n",
       "      <td>0</td>\n",
       "      <td>0</td>\n",
       "      <td>0</td>\n",
       "      <td>0</td>\n",
       "    </tr>\n",
       "    <tr>\n",
       "      <th>7</th>\n",
       "      <td>0</td>\n",
       "      <td>0</td>\n",
       "      <td>1</td>\n",
       "      <td>0</td>\n",
       "      <td>0</td>\n",
       "      <td>0</td>\n",
       "      <td>0</td>\n",
       "      <td>0</td>\n",
       "      <td>0</td>\n",
       "      <td>0</td>\n",
       "      <td>0</td>\n",
       "      <td>0</td>\n",
       "      <td>0</td>\n",
       "      <td>0</td>\n",
       "      <td>0</td>\n",
       "      <td>1</td>\n",
       "      <td>0</td>\n",
       "      <td>0</td>\n",
       "      <td>0</td>\n",
       "      <td>0</td>\n",
       "      <td>0</td>\n",
       "      <td>0</td>\n",
       "      <td>0</td>\n",
       "      <td>0</td>\n",
       "      <td>0</td>\n",
       "      <td>0</td>\n",
       "      <td>0</td>\n",
       "      <td>0</td>\n",
       "      <td>0</td>\n",
       "      <td>0</td>\n",
       "      <td>0</td>\n",
       "      <td>0</td>\n",
       "      <td>0</td>\n",
       "      <td>0</td>\n",
       "      <td>1</td>\n",
       "      <td>0</td>\n",
       "      <td>1</td>\n",
       "      <td>0</td>\n",
       "      <td>0</td>\n",
       "      <td>0</td>\n",
       "      <td>0</td>\n",
       "      <td>0</td>\n",
       "      <td>0</td>\n",
       "      <td>0</td>\n",
       "      <td>0</td>\n",
       "      <td>0</td>\n",
       "      <td>0</td>\n",
       "      <td>0</td>\n",
       "      <td>1</td>\n",
       "      <td>0</td>\n",
       "      <td>0</td>\n",
       "      <td>0</td>\n",
       "      <td>0</td>\n",
       "      <td>0</td>\n",
       "      <td>0</td>\n",
       "      <td>0</td>\n",
       "      <td>0</td>\n",
       "      <td>0</td>\n",
       "      <td>0</td>\n",
       "      <td>0</td>\n",
       "      <td>0</td>\n",
       "      <td>0</td>\n",
       "      <td>0</td>\n",
       "      <td>0</td>\n",
       "      <td>0</td>\n",
       "      <td>0</td>\n",
       "      <td>0</td>\n",
       "      <td>0</td>\n",
       "      <td>0</td>\n",
       "      <td>0</td>\n",
       "      <td>0</td>\n",
       "      <td>1</td>\n",
       "      <td>0</td>\n",
       "      <td>0</td>\n",
       "      <td>0</td>\n",
       "      <td>0</td>\n",
       "      <td>0</td>\n",
       "      <td>0</td>\n",
       "      <td>0</td>\n",
       "      <td>0</td>\n",
       "      <td>0</td>\n",
       "      <td>0</td>\n",
       "      <td>0</td>\n",
       "      <td>0</td>\n",
       "      <td>0</td>\n",
       "      <td>0</td>\n",
       "      <td>0</td>\n",
       "      <td>0</td>\n",
       "      <td>0</td>\n",
       "      <td>0</td>\n",
       "      <td>0</td>\n",
       "      <td>0</td>\n",
       "      <td>0</td>\n",
       "      <td>0</td>\n",
       "      <td>1</td>\n",
       "      <td>1</td>\n",
       "      <td>0</td>\n",
       "      <td>0</td>\n",
       "      <td>0</td>\n",
       "      <td>0</td>\n",
       "      <td>0</td>\n",
       "      <td>0</td>\n",
       "      <td>0</td>\n",
       "      <td>0</td>\n",
       "      <td>1</td>\n",
       "      <td>0</td>\n",
       "      <td>0</td>\n",
       "      <td>0</td>\n",
       "      <td>0</td>\n",
       "    </tr>\n",
       "    <tr>\n",
       "      <th>9</th>\n",
       "      <td>0</td>\n",
       "      <td>1</td>\n",
       "      <td>0</td>\n",
       "      <td>0</td>\n",
       "      <td>0</td>\n",
       "      <td>0</td>\n",
       "      <td>0</td>\n",
       "      <td>0</td>\n",
       "      <td>0</td>\n",
       "      <td>0</td>\n",
       "      <td>0</td>\n",
       "      <td>0</td>\n",
       "      <td>0</td>\n",
       "      <td>0</td>\n",
       "      <td>0</td>\n",
       "      <td>1</td>\n",
       "      <td>0</td>\n",
       "      <td>0</td>\n",
       "      <td>0</td>\n",
       "      <td>0</td>\n",
       "      <td>0</td>\n",
       "      <td>0</td>\n",
       "      <td>0</td>\n",
       "      <td>0</td>\n",
       "      <td>0</td>\n",
       "      <td>0</td>\n",
       "      <td>0</td>\n",
       "      <td>0</td>\n",
       "      <td>0</td>\n",
       "      <td>0</td>\n",
       "      <td>0</td>\n",
       "      <td>1</td>\n",
       "      <td>0</td>\n",
       "      <td>0</td>\n",
       "      <td>0</td>\n",
       "      <td>0</td>\n",
       "      <td>1</td>\n",
       "      <td>0</td>\n",
       "      <td>0</td>\n",
       "      <td>0</td>\n",
       "      <td>0</td>\n",
       "      <td>0</td>\n",
       "      <td>0</td>\n",
       "      <td>0</td>\n",
       "      <td>0</td>\n",
       "      <td>0</td>\n",
       "      <td>0</td>\n",
       "      <td>0</td>\n",
       "      <td>0</td>\n",
       "      <td>0</td>\n",
       "      <td>0</td>\n",
       "      <td>0</td>\n",
       "      <td>0</td>\n",
       "      <td>0</td>\n",
       "      <td>0</td>\n",
       "      <td>0</td>\n",
       "      <td>0</td>\n",
       "      <td>0</td>\n",
       "      <td>0</td>\n",
       "      <td>0</td>\n",
       "      <td>0</td>\n",
       "      <td>0</td>\n",
       "      <td>0</td>\n",
       "      <td>0</td>\n",
       "      <td>0</td>\n",
       "      <td>0</td>\n",
       "      <td>0</td>\n",
       "      <td>0</td>\n",
       "      <td>0</td>\n",
       "      <td>0</td>\n",
       "      <td>1</td>\n",
       "      <td>0</td>\n",
       "      <td>0</td>\n",
       "      <td>0</td>\n",
       "      <td>0</td>\n",
       "      <td>0</td>\n",
       "      <td>0</td>\n",
       "      <td>0</td>\n",
       "      <td>0</td>\n",
       "      <td>0</td>\n",
       "      <td>0</td>\n",
       "      <td>0</td>\n",
       "      <td>0</td>\n",
       "      <td>0</td>\n",
       "      <td>0</td>\n",
       "      <td>0</td>\n",
       "      <td>0</td>\n",
       "      <td>0</td>\n",
       "      <td>0</td>\n",
       "      <td>1</td>\n",
       "      <td>0</td>\n",
       "      <td>0</td>\n",
       "      <td>0</td>\n",
       "      <td>0</td>\n",
       "      <td>1</td>\n",
       "      <td>1</td>\n",
       "      <td>0</td>\n",
       "      <td>0</td>\n",
       "      <td>0</td>\n",
       "      <td>0</td>\n",
       "      <td>0</td>\n",
       "      <td>1</td>\n",
       "      <td>0</td>\n",
       "      <td>0</td>\n",
       "      <td>0</td>\n",
       "      <td>0</td>\n",
       "      <td>0</td>\n",
       "      <td>0</td>\n",
       "      <td>0</td>\n",
       "    </tr>\n",
       "    <tr>\n",
       "      <th>11</th>\n",
       "      <td>0</td>\n",
       "      <td>0</td>\n",
       "      <td>1</td>\n",
       "      <td>0</td>\n",
       "      <td>0</td>\n",
       "      <td>0</td>\n",
       "      <td>0</td>\n",
       "      <td>0</td>\n",
       "      <td>0</td>\n",
       "      <td>0</td>\n",
       "      <td>0</td>\n",
       "      <td>0</td>\n",
       "      <td>0</td>\n",
       "      <td>0</td>\n",
       "      <td>0</td>\n",
       "      <td>1</td>\n",
       "      <td>0</td>\n",
       "      <td>0</td>\n",
       "      <td>0</td>\n",
       "      <td>0</td>\n",
       "      <td>0</td>\n",
       "      <td>0</td>\n",
       "      <td>0</td>\n",
       "      <td>0</td>\n",
       "      <td>0</td>\n",
       "      <td>0</td>\n",
       "      <td>0</td>\n",
       "      <td>0</td>\n",
       "      <td>0</td>\n",
       "      <td>0</td>\n",
       "      <td>0</td>\n",
       "      <td>0</td>\n",
       "      <td>0</td>\n",
       "      <td>0</td>\n",
       "      <td>1</td>\n",
       "      <td>0</td>\n",
       "      <td>1</td>\n",
       "      <td>0</td>\n",
       "      <td>0</td>\n",
       "      <td>0</td>\n",
       "      <td>0</td>\n",
       "      <td>0</td>\n",
       "      <td>0</td>\n",
       "      <td>0</td>\n",
       "      <td>0</td>\n",
       "      <td>0</td>\n",
       "      <td>0</td>\n",
       "      <td>0</td>\n",
       "      <td>1</td>\n",
       "      <td>0</td>\n",
       "      <td>0</td>\n",
       "      <td>0</td>\n",
       "      <td>0</td>\n",
       "      <td>0</td>\n",
       "      <td>0</td>\n",
       "      <td>0</td>\n",
       "      <td>0</td>\n",
       "      <td>0</td>\n",
       "      <td>0</td>\n",
       "      <td>0</td>\n",
       "      <td>0</td>\n",
       "      <td>0</td>\n",
       "      <td>0</td>\n",
       "      <td>0</td>\n",
       "      <td>0</td>\n",
       "      <td>0</td>\n",
       "      <td>0</td>\n",
       "      <td>0</td>\n",
       "      <td>0</td>\n",
       "      <td>0</td>\n",
       "      <td>0</td>\n",
       "      <td>0</td>\n",
       "      <td>1</td>\n",
       "      <td>0</td>\n",
       "      <td>0</td>\n",
       "      <td>0</td>\n",
       "      <td>0</td>\n",
       "      <td>0</td>\n",
       "      <td>0</td>\n",
       "      <td>0</td>\n",
       "      <td>0</td>\n",
       "      <td>0</td>\n",
       "      <td>0</td>\n",
       "      <td>0</td>\n",
       "      <td>0</td>\n",
       "      <td>0</td>\n",
       "      <td>0</td>\n",
       "      <td>0</td>\n",
       "      <td>0</td>\n",
       "      <td>0</td>\n",
       "      <td>0</td>\n",
       "      <td>0</td>\n",
       "      <td>0</td>\n",
       "      <td>0</td>\n",
       "      <td>1</td>\n",
       "      <td>1</td>\n",
       "      <td>0</td>\n",
       "      <td>0</td>\n",
       "      <td>0</td>\n",
       "      <td>0</td>\n",
       "      <td>0</td>\n",
       "      <td>0</td>\n",
       "      <td>0</td>\n",
       "      <td>0</td>\n",
       "      <td>1</td>\n",
       "      <td>0</td>\n",
       "      <td>0</td>\n",
       "      <td>0</td>\n",
       "      <td>0</td>\n",
       "    </tr>\n",
       "  </tbody>\n",
       "</table>\n",
       "</div>"
      ],
      "text/plain": [
       "    body_type_a little extra  body_type_athletic  body_type_average  body_type_curvy  body_type_fit  body_type_full figured  body_type_jacked  body_type_overweight  body_type_rather not say  body_type_skinny  body_type_thin  body_type_used up  diet_anything  diet_halal  diet_kosher  diet_mostly anything  diet_mostly halal  diet_mostly kosher  diet_mostly other  diet_mostly vegan  diet_mostly vegetarian  diet_other  diet_strictly anything  diet_strictly halal  diet_strictly kosher  \\\n",
       "0                          1                   0                  0                0              0                       0                 0                     0                         0                 0               0                  0              0           0            0                     0                  0                   0                  0                  0                       0           0                       1                    0                     0   \n",
       "1                          0                   0                  1                0              0                       0                 0                     0                         0                 0               0                  0              0           0            0                     0                  0                   0                  1                  0                       0           0                       0                    0                     0   \n",
       "7                          0                   0                  1                0              0                       0                 0                     0                         0                 0               0                  0              0           0            0                     1                  0                   0                  0                  0                       0           0                       0                    0                     0   \n",
       "9                          0                   1                  0                0              0                       0                 0                     0                         0                 0               0                  0              0           0            0                     1                  0                   0                  0                  0                       0           0                       0                    0                     0   \n",
       "11                         0                   0                  1                0              0                       0                 0                     0                         0                 0               0                  0              0           0            0                     1                  0                   0                  0                  0                       0           0                       0                    0                     0   \n",
       "\n",
       "    diet_strictly other  diet_strictly vegan  diet_strictly vegetarian  diet_vegan  diet_vegetarian  drinks_desperately  drinks_not at all  drinks_often  drinks_rarely  drinks_socially  drinks_very often  drugs_never  drugs_often  drugs_sometimes  education_college/university  education_dropped out of college/university  education_dropped out of high school  education_dropped out of law school  education_dropped out of masters program  education_dropped out of med school  \\\n",
       "0                     0                    0                         0           0                0                   0                  0             0              0                1                  0            1            0                0                             0                                            0                                     0                                    0                                         0                                    0   \n",
       "1                     0                    0                         0           0                0                   0                  0             1              0                0                  0            0            0                1                             0                                            0                                     0                                    0                                         0                                    0   \n",
       "7                     0                    0                         0           0                0                   0                  0             0              0                1                  0            1            0                0                             0                                            0                                     0                                    0                                         0                                    0   \n",
       "9                     0                    0                         0           0                0                   0                  1             0              0                0                  0            1            0                0                             0                                            0                                     0                                    0                                         0                                    0   \n",
       "11                    0                    0                         0           0                0                   0                  0             0              0                1                  0            1            0                0                             0                                            0                                     0                                    0                                         0                                    0   \n",
       "\n",
       "    education_dropped out of ph.d program  education_dropped out of space camp  education_dropped out of two-year college  education_graduated from college/university  education_graduated from high school  education_graduated from law school  education_graduated from masters program  education_graduated from med school  education_graduated from ph.d program  education_graduated from space camp  education_graduated from two-year college  education_high school  education_law school  \\\n",
       "0                                       0                                    0                                          0                                            0                                     0                                    0                                         0                                    0                                      0                                    0                                          0                      0                     0   \n",
       "1                                       0                                    0                                          0                                            0                                     0                                    0                                         0                                    0                                      0                                    0                                          0                      0                     0   \n",
       "7                                       0                                    0                                          0                                            1                                     0                                    0                                         0                                    0                                      0                                    0                                          0                      0                     0   \n",
       "9                                       0                                    0                                          0                                            0                                     0                                    0                                         0                                    0                                      0                                    0                                          0                      0                     0   \n",
       "11                                      0                                    0                                          0                                            1                                     0                                    0                                         0                                    0                                      0                                    0                                          0                      0                     0   \n",
       "\n",
       "    education_masters program  education_med school  education_ph.d program  education_space camp  education_two-year college  education_working on college/university  education_working on high school  education_working on law school  education_working on masters program  education_working on med school  education_working on ph.d program  education_working on space camp  education_working on two-year college  job_artistic / musical / writer  job_banking / financial / real estate  \\\n",
       "0                           0                     0                       0                     0                           0                                        1                                 0                                0                                     0                                0                                  0                                0                                      0                                0                                      0   \n",
       "1                           0                     0                       0                     0                           0                                        0                                 0                                0                                     0                                0                                  0                                1                                      0                                0                                      0   \n",
       "7                           0                     0                       0                     0                           0                                        0                                 0                                0                                     0                                0                                  0                                0                                      0                                1                                      0   \n",
       "9                           0                     0                       0                     0                           0                                        0                                 0                                0                                     0                                0                                  0                                0                                      1                                0                                      0   \n",
       "11                          0                     0                       0                     0                           0                                        0                                 0                                0                                     0                                0                                  0                                0                                      0                                0                                      1   \n",
       "\n",
       "    job_clerical / administrative  job_computer / hardware / software  job_construction / craftsmanship  job_education / academia  job_entertainment / media  job_executive / management  job_hospitality / travel  job_law / legal services  job_medicine / health  job_military  job_other  job_political / government  job_rather not say  job_retired  job_sales / marketing / biz dev  job_science / tech / engineering  job_student  job_transportation  job_unemployed  orientation_bisexual  \\\n",
       "0                               0                                   0                                 0                         0                          0                           0                         0                         0                      0             0          0                           0                   0            0                                0                                 0            0                   1               0                     0   \n",
       "1                               0                                   0                                 0                         0                          0                           0                         1                         0                      0             0          0                           0                   0            0                                0                                 0            0                   0               0                     0   \n",
       "7                               0                                   0                                 0                         0                          0                           0                         0                         0                      0             0          0                           0                   0            0                                0                                 0            0                   0               0                     0   \n",
       "9                               0                                   0                                 0                         0                          0                           0                         0                         0                      0             0          0                           0                   0            0                                0                                 0            1                   0               0                     0   \n",
       "11                              0                                   0                                 0                         0                          0                           0                         0                         0                      0             0          0                           0                   0            0                                0                                 0            0                   0               0                     0   \n",
       "\n",
       "    orientation_gay  orientation_straight  smokes_no  smokes_sometimes  smokes_trying to quit  smokes_when drinking  smokes_yes  religion_clean_agnosticism  religion_clean_atheism  religion_clean_buddhism  religion_clean_catholicism  religion_clean_christianity  religion_clean_hinduism  religion_clean_islam  religion_clean_judaism  religion_clean_other  \n",
       "0                 0                     1          0                 1                      0                     0           0                           1                       0                        0                           0                            0                        0                     0                       0                     0  \n",
       "1                 0                     1          1                 0                      0                     0           0                           1                       0                        0                           0                            0                        0                     0                       0                     0  \n",
       "7                 0                     1          1                 0                      0                     0           0                           0                       0                        0                           0                            1                        0                     0                       0                     0  \n",
       "9                 0                     1          1                 0                      0                     0           0                           0                       1                        0                           0                            0                        0                     0                       0                     0  \n",
       "11                0                     1          1                 0                      0                     0           0                           0                       0                        0                           0                            1                        0                     0                       0                     0  "
      ]
     },
     "metadata": {},
     "output_type": "display_data"
    }
   ],
   "source": [
    "# select features\n",
    "features = ['body_type', 'diet', 'drinks', 'drugs', 'education', 'job', 'orientation', 'smokes', 'religion_clean']\n",
    "\n",
    "# create dataset of features\n",
    "df = dataset[features]\n",
    "\n",
    "# use get_dummies to convert string categories into integers\n",
    "for feature in features:\n",
    "    df = pd.get_dummies(df, columns=[feature], prefix = [feature])\n",
    "    \n",
    "# check\n",
    "display(df.head())"
   ]
  },
  {
   "cell_type": "markdown",
   "metadata": {},
   "source": [
    "### Split the data\n",
    "\n",
    "***"
   ]
  },
  {
   "cell_type": "code",
   "execution_count": 19,
   "metadata": {},
   "outputs": [],
   "source": [
    "# import function to build train and test sets\n",
    "from sklearn.model_selection import train_test_split \n",
    "\n",
    "# create train and test sets\n",
    "X = df\n",
    "y = dataset['sign_clean']\n",
    "\n",
    "X_train, X_test, y_train, y_test = train_test_split(X, y, test_size=0.2, random_state=1)"
   ]
  },
  {
   "cell_type": "markdown",
   "metadata": {},
   "source": [
    "Alright data is ready now, let's build models."
   ]
  },
  {
   "cell_type": "markdown",
   "metadata": {},
   "source": [
    "## 3. Build models\n",
    "\n",
    "***\n",
    "\n",
    "Let's compare 3 differents classification models.\n",
    "\n",
    "### Train and test the models\n",
    "\n",
    "***"
   ]
  },
  {
   "cell_type": "code",
   "execution_count": 29,
   "metadata": {},
   "outputs": [
    {
     "name": "stdout",
     "output_type": "stream",
     "text": [
      "LinearSVC\n",
      "Train score: 12.66%\n",
      "Test score: 8.32%\n",
      "\n",
      "\n",
      "KNeighborsClassifier\n",
      "Train score: 25.59%\n",
      "Test score: 8.06%\n",
      "\n",
      "\n",
      "RandomForestClassifier\n",
      "Train score: 84.68%\n",
      "Test score: 8.29%\n",
      "\n",
      "\n"
     ]
    }
   ],
   "source": [
    "# import 3 differents models we will compare\n",
    "from sklearn.svm import LinearSVC\n",
    "from sklearn.neighbors import KNeighborsClassifier\n",
    "from sklearn.ensemble import RandomForestClassifier\n",
    "\n",
    "# create a list of our models in which we will iterate\n",
    "models = [\n",
    "    LinearSVC(),\n",
    "    KNeighborsClassifier(n_neighbors=10),\n",
    "    RandomForestClassifier(n_estimators=20, random_state=1)\n",
    "]\n",
    "\n",
    "# iterate through the list, train models, and get their accuracy scores on train and test sets\n",
    "for model in models:\n",
    "    model.fit(X_train, y_train)\n",
    "    print('{}'.format(model.__class__.__name__))\n",
    "    print('Train score: {:.2f}%'.format(model.score(X_train, y_train)*100))\n",
    "    print('Test score: {:.2f}%'.format(model.score(X_test, y_test)*100))\n",
    "    print('\\n')"
   ]
  },
  {
   "cell_type": "markdown",
   "metadata": {},
   "source": [
    "Results are poor. \n",
    "\n",
    "RandomForestClassifier appears to have the best accuracy on the train set but all three are pretty bad when it comes to generalize to the test set.\n",
    "\n",
    "Parameters have been set randomly, so let's see if we can optimize the result."
   ]
  },
  {
   "cell_type": "markdown",
   "metadata": {},
   "source": [
    "### Optimize the model\n",
    "\n",
    "***\n",
    "#### KNeighborsClassifier\n",
    "Let's begin with KNeighborsClassifier. One parameter we can play with is the number of neighbors."
   ]
  },
  {
   "cell_type": "code",
   "execution_count": 21,
   "metadata": {},
   "outputs": [
    {
     "data": {
      "image/png": "[encoded data removed]",
      "text/plain": [
       "<Figure size 432x288 with 1 Axes>"
      ]
     },
     "metadata": {
      "needs_background": "light"
     },
     "output_type": "display_data"
    }
   ],
   "source": [
    "# set up numbers of neighbors we want to try and the list to store the results\n",
    "neighbors = 80\n",
    "scores = []\n",
    "\n",
    "# find the best number of neighbors to improve the KNeighborsClassifier.\n",
    "for n in range(1, neighbors+1):\n",
    "    knn = KNeighborsClassifier(n_neighbors=n)\n",
    "    knn.fit(X_train, y_train)\n",
    "    scores.append(knn.score(X_test, y_test))\n",
    "\n",
    "# plot score in fuction of number of neighbors\n",
    "plt.scatter(range(1, neighbors + 1), scores)\n",
    "plt.title('Optimization of n_neighbors parameter')\n",
    "plt.xlabel('n_neighbors')\n",
    "plt.ylabel('accuracy')\n",
    "plt.show()"
   ]
  },
  {
   "cell_type": "code",
   "execution_count": 22,
   "metadata": {},
   "outputs": [
    {
     "name": "stdout",
     "output_type": "stream",
     "text": [
      "n° of neighbors for highest accuracy: 56\n"
     ]
    }
   ],
   "source": [
    "# print the optimized number of neighbors\n",
    "print('n° of neighbors for highest accuracy: {}'.format(range(1, neighbors + 1)[scores.index(max(scores))]))"
   ]
  },
  {
   "cell_type": "markdown",
   "metadata": {},
   "source": [
    "Maximum accuracy is around 9.5% and is obtained with 56 neighbors. \n",
    "Then the accuracy decreases after this number.\n",
    "\n",
    "But it takes more time to run the calculation with 56 neighbors. \n",
    "A good compromise between speed and accuracy could be that we take 5 neighbors."
   ]
  },
  {
   "cell_type": "markdown",
   "metadata": {},
   "source": [
    "#### RandomForestClassifier\n",
    "Let's try to optimize now RandomForestClassifier. One parameter we can play with is the number of trees in the forest (n_estimators)."
   ]
  },
  {
   "cell_type": "code",
   "execution_count": 23,
   "metadata": {},
   "outputs": [
    {
     "data": {
      "image/png": "[encoded data removed]",
      "text/plain": [
       "<Figure size 432x288 with 1 Axes>"
      ]
     },
     "metadata": {
      "needs_background": "light"
     },
     "output_type": "display_data"
    }
   ],
   "source": [
    "# set up numbers of trees we want to try and the list to store the results\n",
    "trees = 150\n",
    "scores = []\n",
    "\n",
    "# find the best number of trees to improve the RandomForestClassifier.\n",
    "for n in range(1, trees + 1):\n",
    "    forest = RandomForestClassifier(n_estimators=n, random_state=1)\n",
    "    forest.fit(X_train, y_train)\n",
    "    scores.append(forest.score(X_test, y_test))\n",
    "\n",
    "# plot score in fuction of number of neighbors\n",
    "plt.scatter(range(1, trees + 1), scores)\n",
    "plt.title('Optimization of n_estimators parameter')\n",
    "plt.xlabel('n_estimators')\n",
    "plt.ylabel('accuracy')\n",
    "plt.show()"
   ]
  },
  {
   "cell_type": "code",
   "execution_count": 27,
   "metadata": {},
   "outputs": [
    {
     "name": "stdout",
     "output_type": "stream",
     "text": [
      "n° of trees for highest accuracy with RandomForestClassifier: 95\n"
     ]
    }
   ],
   "source": [
    "# print the optimized number of trees\n",
    "print('n° of trees for highest accuracy with RandomForestClassifier: {}'.format(range(1, trees + 1)[scores.index(max(scores))]))"
   ]
  },
  {
   "cell_type": "markdown",
   "metadata": {},
   "source": [
    "Maximum accuracy is around 9.35% and is obtained with 95 trees. Not really better than KNeighborsClassifier.\n",
    "Then the accuracy decreases after 95 trees."
   ]
  },
  {
   "cell_type": "markdown",
   "metadata": {},
   "source": [
    "### Pick a model\n",
    "\n",
    "***\n",
    "\n",
    "It seems that with a high number of trees, RandomForestClassifier is longer to run than KNeighborsClassifier with no better accuracy.\n",
    "So we will probably prefer KNeighborsClassifier over the two.\n",
    "\n",
    "To have more detail let's display the confusion matrix with KNeighborsClassifier."
   ]
  },
  {
   "cell_type": "code",
   "execution_count": 25,
   "metadata": {},
   "outputs": [
    {
     "data": {
      "image/png": "[encoded data removed]",
      "text/plain": [
       "<Figure size 720x504 with 2 Axes>"
      ]
     },
     "metadata": {
      "needs_background": "light"
     },
     "output_type": "display_data"
    }
   ],
   "source": [
    "# create the model with optimized # of neighbors and fit\n",
    "knn = KNeighborsClassifier(n_neighbors=56).fit(X_train, y_train)\n",
    "\n",
    "# import function to create the confusion_matrix\n",
    "from sklearn.metrics import confusion_matrix \n",
    "\n",
    "# create the confusion_matrix\n",
    "knn_predict = knn.predict(X_test) \n",
    "matrix = confusion_matrix(y_test, knn_predict)\n",
    "\n",
    "# set up labels for the plot\n",
    "knn_labels = knn.classes_\n",
    "\n",
    "# plot the confusion matrix with heatmap for better visibility\n",
    "plt.figure(figsize=(10,7))\n",
    "ax= plt.subplot()\n",
    "sns.heatmap(matrix, annot=True, ax = ax, fmt=\"d\")\n",
    "\n",
    "# labels, title and ticks\n",
    "ax.set_xlabel('Predicted labels')\n",
    "ax.set_ylabel('True labels') \n",
    "ax.set_title('Confusion Matrix')\n",
    "ax.yaxis.set_tick_params(rotation=360)\n",
    "ax.xaxis.set_tick_params(rotation=90)\n",
    "\n",
    "ax.xaxis.set_ticklabels(knn_labels)\n",
    "ax.yaxis.set_ticklabels(knn_labels)\n",
    "\n",
    "plt.show()"
   ]
  },
  {
   "cell_type": "markdown",
   "metadata": {},
   "source": [
    "Confusion matrix is good tool to see in details which label we predict better and with which ones we fail.\n",
    "In this case, it fails for all :/ \n",
    "The model is actually poorly precise, that's why. \n",
    "\n",
    "Actually, we expected that because it sounds logic that our astrological sign doesn't determine our way of life, body type, religion, etc... hopefully :)."
   ]
  }
 ],
 "metadata": {
  "kernelspec": {
   "display_name": "Python 3",
   "language": "python",
   "name": "python3"
  },
  "language_info": {
   "codemirror_mode": {
    "name": "ipython",
    "version": 3
   },
   "file_extension": ".py",
   "mimetype": "text/x-python",
   "name": "python",
   "nbconvert_exporter": "python",
   "pygments_lexer": "ipython3",
   "version": "3.8.8"
  }
 },
 "nbformat": 4,
 "nbformat_minor": 4
}
